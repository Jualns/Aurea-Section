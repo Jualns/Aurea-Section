{
 "cells": [
  {
   "cell_type": "code",
   "execution_count": 13,
   "metadata": {
    "scrolled": false
   },
   "outputs": [
    {
     "name": "stdout",
     "output_type": "stream",
     "text": [
      "\u001b[32m\u001b[1m  Updating\u001b[22m\u001b[39m registry at `C:\\Users\\Jualn\\.julia\\registries\\General`\n",
      "\u001b[32m\u001b[1m  Updating\u001b[22m\u001b[39m git-repo `https://github.com/JuliaRegistries/General.git`\n",
      "\u001b[?25l\u001b[2K\u001b[?25h\u001b[32m\u001b[1m Resolving\u001b[22m\u001b[39m package versions...\n",
      "\u001b[32m\u001b[1m  Updating\u001b[22m\u001b[39m `C:\\Users\\Jualn\\.julia\\environments\\v1.1\\Project.toml`\n",
      "\u001b[90m [no changes]\u001b[39m\n",
      "\u001b[32m\u001b[1m  Updating\u001b[22m\u001b[39m `C:\\Users\\Jualn\\.julia\\environments\\v1.1\\Manifest.toml`\n",
      "\u001b[90m [no changes]\u001b[39m\n",
      "\u001b[32m\u001b[1m Resolving\u001b[22m\u001b[39m package versions...\n",
      "\u001b[32m\u001b[1m  Updating\u001b[22m\u001b[39m `C:\\Users\\Jualn\\.julia\\environments\\v1.1\\Project.toml`\n",
      "\u001b[90m [no changes]\u001b[39m\n",
      "\u001b[32m\u001b[1m  Updating\u001b[22m\u001b[39m `C:\\Users\\Jualn\\.julia\\environments\\v1.1\\Manifest.toml`\n",
      "\u001b[90m [no changes]\u001b[39m\n",
      "\u001b[32m\u001b[1m Resolving\u001b[22m\u001b[39m package versions...\n",
      "\u001b[32m\u001b[1m  Updating\u001b[22m\u001b[39m `C:\\Users\\Jualn\\.julia\\environments\\v1.1\\Project.toml`\n",
      "\u001b[90m [no changes]\u001b[39m\n",
      "\u001b[32m\u001b[1m  Updating\u001b[22m\u001b[39m `C:\\Users\\Jualn\\.julia\\environments\\v1.1\\Manifest.toml`\n",
      "\u001b[90m [no changes]\u001b[39m\n"
     ]
    }
   ],
   "source": [
    "using Pkg\n",
    "Pkg.add(\"Plots\")\n",
    "Pkg.add(\"PyCall\")\n",
    "Pkg.add(\"PyPlot\")"
   ]
  },
  {
   "cell_type": "code",
   "execution_count": 2,
   "metadata": {
    "scrolled": true
   },
   "outputs": [
    {
     "data": {
      "text/plain": [
       "Plots.PyPlotBackend()"
      ]
     },
     "execution_count": 2,
     "metadata": {},
     "output_type": "execute_result"
    }
   ],
   "source": [
    "using Printf, Plots\n",
    "pyplot(size=(370,270))"
   ]
  },
  {
   "cell_type": "code",
   "execution_count": 3,
   "metadata": {
    "scrolled": true
   },
   "outputs": [
    {
     "data": {
      "text/plain": [
       "12-element Array{BigFloat,1}:\n",
       "  3.141592653589793238462643383279502884197169399375105820974944592307816406286198\n",
       "  2.718281828459045235360287471352662497757247093699959574966967627724076630353555\n",
       "  0.57735026918962584208117050366126932203769683837890625                         \n",
       "  4.0                                                                             \n",
       "  2.5693324620516921896751227905042469501495361328125                             \n",
       "  1.1991549972191268835786104318685829639434814453125                             \n",
       "  2.0                                                                             \n",
       " 21.229133642221714950437672086991369724273681640625                              \n",
       "  1.5697049797530737702544456624309532344341278076171875                          \n",
       "  2.0                                                                             \n",
       "  3.23475104537569979612499082577414810657501220703125                            \n",
       " 10.0                                                                             "
      ]
     },
     "execution_count": 3,
     "metadata": {},
     "output_type": "execute_result"
    }
   ],
   "source": [
    "function a(x)\n",
    "    if 0<= x <= MathConstants.pi\n",
    "        return cos(x)\n",
    "    else\n",
    "        return (x-MathConstants.pi)-1\n",
    "    end\n",
    "end\n",
    "\n",
    "function c(x)\n",
    "    return (-2x)/(1+x^2)^2\n",
    "end\n",
    "\n",
    "function b(x)\n",
    "    return exp(x-exp(1)) - x + exp(1)\n",
    "end\n",
    "function d(x)\n",
    "    return(abs(-4 + x +sin(3(x-4)/4)))\n",
    "end\n",
    "function e(x)\n",
    "    if 0 <= x <= BigFloat(6)\n",
    "        return BigFloat(2) + BigFloat(sin(BigFloat(x) + BigFloat(2)))/BigFloat(log(BigFloat(x) + BigFloat(2)))\n",
    "    else\n",
    "        return (BigFloat(x) - BigFloat(6))^2 + BigFloat(2.48)\n",
    "    end\n",
    "end\n",
    "\n",
    "function f(x)\n",
    "    return (x)^6 - 3(-x^5) + 6(x^4) + 20(-x^3) - x\n",
    "end\n",
    "\n",
    "function g(x)\n",
    "    return (BigFloat(x)-BigFloat(2))^2 + BigFloat(4)\n",
    "end\n",
    "function h(x)\n",
    "    if 0<= x <= 20\n",
    "        return -(x-18)^3 + 8\n",
    "    else\n",
    "        return -(34*atan(x-20))/(x-19)\n",
    "    end\n",
    "end\n",
    "function i(x)\n",
    "    return (x+4)*(x+1)*(x-1)*(x-2)/20\n",
    "end\n",
    "function j(x)\n",
    "    if 0<= x <= 2\n",
    "        return MathConstants.e^(-x)\n",
    "    else\n",
    "        return (x - 2 + MathConstants.e^(-2))\n",
    "    end\n",
    "end\n",
    "function k(x)\n",
    "    return -12*sin(x - 1.89) + (x - 1.89)^2\n",
    "end\n",
    "function l(x)\n",
    "    if x <= 10\n",
    "        return -x\n",
    "    elseif 10 < x < 11\n",
    "        return - 10\n",
    "    else\n",
    "        return x-21\n",
    "    end\n",
    "end\n",
    "function m(x)\n",
    "    return abs(MathConstants.e^((x-9)^2-(x-9)^3)-x-9)\n",
    "end\n",
    "func = [a, b, c, d, e, f, g, h, i, j, k, l]\n",
    "funcval = [MathConstants.pi, MathConstants.e, 1/sqrt(3), 4, BigFloat(2.56933246205169214815), BigFloat(1.19915499721912693470) , 2, BigFloat(21.22913364222171637180), BigFloat(1.56970497975307382105), 2, BigFloat(3.23475104537569968834), 10]"
   ]
  },
  {
   "cell_type": "code",
   "execution_count": 4,
   "metadata": {},
   "outputs": [
    {
     "data": {
      "text/plain": [
       "intervalo (generic function with 1 method)"
      ]
     },
     "execution_count": 4,
     "metadata": {},
     "output_type": "execute_result"
    }
   ],
   "source": [
    "function intervalo(φ ::Function)\n",
    "    α = 1e-8\n",
    "    a, b, s = 0, 2*α, α\n",
    "    while φ(b)<φ(s)\n",
    "        a, s, b = s, b, 2b\n",
    "    end\n",
    "    return a, b\n",
    "end"
   ]
  },
  {
   "cell_type": "code",
   "execution_count": 5,
   "metadata": {},
   "outputs": [
    {
     "data": {
      "text/plain": [
       "Secao_Aurea (generic function with 1 method)"
      ]
     },
     "execution_count": 5,
     "metadata": {},
     "output_type": "execute_result"
    }
   ],
   "source": [
    "function Secao_Aurea(φ ::Function, a, b; limk = 100 , ϵ = 1e-4 )\n",
    "    θ_1= (3-sqrt(5))/2\n",
    "    θ_2= (-1+sqrt(5))/2\n",
    "    u= a + θ_1*(b-a)\n",
    "    v= a + θ_2*(b-a)\n",
    "    k = 1\n",
    "    fu, fv = φ(u), φ(v)\n",
    "    while abs(b-a) > ϵ && k < limk\n",
    "        if fu<fv\n",
    "            b, fv = v, fu\n",
    "            v = u\n",
    "            u = a + θ_1*(b-a)\n",
    "            fu = φ(u)\n",
    "        else\n",
    "            a, fu = u, fv\n",
    "            u = v\n",
    "            v = a + θ_2*(b-a)\n",
    "            fv = φ(v)\n",
    "        end\n",
    "        k += 1\n",
    "    end\n",
    "    A = [φ(a), φ(u), φ(v), φ(b)]\n",
    "    dicio = Dict(A[1] => a, A[2] => u, A[3] => v, A[4] => b)\n",
    "    return dicio[minimum(A)], k\n",
    "end"
   ]
  },
  {
   "cell_type": "code",
   "execution_count": 6,
   "metadata": {},
   "outputs": [
    {
     "data": {
      "text/plain": [
       "secao_33 (generic function with 1 method)"
      ]
     },
     "execution_count": 6,
     "metadata": {},
     "output_type": "execute_result"
    }
   ],
   "source": [
    "function secao_33(φ ::Function, a , b; limk = 100 , ϵ = 1e-4)\n",
    "    k = 1\n",
    "    fu, fv = φ((2a+b)/3), φ((a+2b)/3)\n",
    "    while abs(b-a) > ϵ && k < limk\n",
    "        if fu<fv\n",
    "            b = (a+2b)/3\n",
    "            fu = φ((2a+b)/3)\n",
    "            fv = φ((a+2b)/3)\n",
    "        else\n",
    "            a = (2a+b)/3\n",
    "            fu = φ((2a+b)/3)\n",
    "            fv = φ((a+2b)/3)\n",
    "        end\n",
    "        k += 1\n",
    "        if k > 100_000\n",
    "            error(\"Número de interações\")\n",
    "        end\n",
    "    end\n",
    "    A = [φ(a), φ((2a+b)/3), φ((a+2b)/3), φ(b)]\n",
    "    dicio = Dict(A[1] => a, A[2] => (2a+b)/3 , A[3] => (a+2b)/3, A[4] => b)\n",
    "    return dicio[minimum(A)], k\n",
    "end"
   ]
  },
  {
   "cell_type": "code",
   "execution_count": 7,
   "metadata": {},
   "outputs": [
    {
     "data": {
      "text/plain": [
       "secao_aleatoria (generic function with 1 method)"
      ]
     },
     "execution_count": 7,
     "metadata": {},
     "output_type": "execute_result"
    }
   ],
   "source": [
    "function secao_aleatoria(φ ::Function, a, b ; limk = 100, ϵ = 1e-4)\n",
    "    k =  1\n",
    "    #pego um float random em [0,1) e faço cair no intervalo (a,b)\n",
    "    u, v = rand(1,2)*(b - a) + [a a]\n",
    "    fu, fv = φ((u)), φ((v))\n",
    "    while abs(b-a) > ϵ && k < limk\n",
    "        if u >= v #pra ficar a<u<v<b\n",
    "            u,v,fu,fv = v,u,fv,fu\n",
    "        end\n",
    "        if fu<fv\n",
    "            b = v\n",
    "            v = rand()*(b - a) + a\n",
    "            fv = φ(v)\n",
    "        else\n",
    "            a = u\n",
    "            u = rand()*(b - a) + a\n",
    "            fu = φ(u)\n",
    "        end\n",
    "        k += 1\n",
    "    end\n",
    "    A = [φ(a), φ(u), φ(v), φ(b)]\n",
    "    dicio = Dict(A[1] => a, A[2] => u, A[3] => v, A[4] => b)\n",
    "    return dicio[minimum(A)], k\n",
    "end "
   ]
  },
  {
   "cell_type": "code",
   "execution_count": 8,
   "metadata": {},
   "outputs": [
    {
     "data": {
      "text/plain": [
       "imagens (generic function with 1 method)"
      ]
     },
     "execution_count": 8,
     "metadata": {},
     "output_type": "execute_result"
    }
   ],
   "source": [
    "function imagens()\n",
    "    pyplot(size=(370,270))\n",
    "    for f in func\n",
    "        a0, b0 = intervalo(f)\n",
    "        plot(f, a0, b0,label= string(f,\"(x)\"))\n",
    "        Plots.png(string(f))\n",
    "    end\n",
    "end"
   ]
  },
  {
   "cell_type": "code",
   "execution_count": 9,
   "metadata": {},
   "outputs": [
    {
     "data": {
      "text/plain": [
       "tabela (generic function with 3 methods)"
      ]
     },
     "execution_count": 9,
     "metadata": {},
     "output_type": "execute_result"
    }
   ],
   "source": [
    "function tabela(func=func, funcval = funcval)\n",
    "    @printf(\"%5s | %5s | %5s | %5s | %5s | %5s| %5s\\n\",\"Função\",\"Áurea\" ,\"Equi\", \"Rand\", \"Int Áu\",\"Int Equi\",\"Int Rand\")\n",
    "    @printf(\"%5s | %6s | %6s | %6s | %6s | %6s| %6s\\n\", \"-\"^5,\"-\"^5, \"-\"^5, \"-\"^5,\"-\"^5, \"-\"^5, \"-\"^5)\n",
    "    for i = 1:length(func)\n",
    "        p, minimo = func[i], funcval[i]\n",
    "        a, b = intervalo(p)\n",
    "        minimoA , nA = Secao_Aurea(p, a, b)\n",
    "        minimo3 , n3 = secao_33(p, a, b)\n",
    "        minimoR , nR = secao_aleatoria(p, a, b)\n",
    "        #pego quantas casas de precisão o minimo encontrado está do real.\n",
    "        #println(abs(minimoA-minimo))\n",
    "        #println(minimoA)\n",
    "        minimoA = parse(Int,string(abs(minimoA-minimo))[end]) - 1\n",
    "        minimo3 = parse(Int,string(abs(minimo3-minimo))[end]) - 1\n",
    "        minimoR = parse(Int,string(abs(minimoR-minimo))[end]) - 1\n",
    "        @printf(\"%5s |%6s | %6s | %6s | %6s | %6s | %6s\\n\",string(p,\"(x)\"), minimoA, minimo3, minimoR ,nA, n3, nR)\n",
    "    end\n",
    "    return  \n",
    "end"
   ]
  },
  {
   "cell_type": "code",
   "execution_count": 10,
   "metadata": {},
   "outputs": [
    {
     "data": {
      "text/plain": [
       "grafico_aprox (generic function with 2 methods)"
      ]
     },
     "execution_count": 10,
     "metadata": {},
     "output_type": "execute_result"
    }
   ],
   "source": [
    "function grafico_aprox(fu,number, funcval = funcval)\n",
    "    minimo = funcval[number]\n",
    "    matriy = zeros(3,1)\n",
    "    eiXo = ones(1)\n",
    "    a1, b1 = intervalo(fu)\n",
    "    for i = 1:2:100\n",
    "        minimoA , nA = Secao_Aurea(fu, a1, b1, limk = i)\n",
    "        minimo3 , n3 = secao_33(fu, a1, b1, limk = i)\n",
    "        minimoR , nR = secao_aleatoria(fu, a1, b1, limk = i)\n",
    "        matriy = [matriy abs.([minimoA, minimo3, minimoR].- minimo)]\n",
    "        eiXo = [eiXo [i]]\n",
    "    end\n",
    "    vA, v3, vR = matriy[1,2:51], matriy[2,2:51], matriy[3,2:51]\n",
    "    eiXo = eiXo[2:51]\n",
    "    plot(yaxis = :log, xlabel = \"Número de Interações\", ylabel = \"Erro\")\n",
    "    xlims!(0,50)\n",
    "    scatter!(eiXo, vA, markersize=6, c=:orange, lab=\"Áurea\")\n",
    "    scatter!(eiXo, v3, markersize=6, c=:green, lab=\"Equidistante\")\n",
    "    scatter!(eiXo, vR, markersize=6, c=:pink, lab=\"Random\")\n",
    "end\n"
   ]
  },
  {
   "cell_type": "code",
   "execution_count": 11,
   "metadata": {},
   "outputs": [
    {
     "data": {
      "text/plain": [
       "Secao_Min (generic function with 1 method)"
      ]
     },
     "execution_count": 11,
     "metadata": {},
     "output_type": "execute_result"
    }
   ],
   "source": [
    "function Secao_Min(φ ::Function)\n",
    "    α = BigFloat(1e-8)\n",
    "    a, b, s = BigFloat(0), BigFloat(2)*α, α\n",
    "    while φ(b)<φ(s)\n",
    "        a, s, b = s, b, 2b\n",
    "    end\n",
    "    ϵ = BigFloat(1e-12)\n",
    "    θ_1= (BigFloat(3)-BigFloat(sqrt(BigFloat(5))))/BigFloat(2)\n",
    "    θ_2= (BigFloat(-1)+BigFloat(sqrt(BigFloat(5))))/BigFloat(2)\n",
    "    u = a + θ_1*(b-a)\n",
    "    v = a + θ_2*(b-a)\n",
    "    k = 1\n",
    "    fu, fv = BigFloat(φ(u)), BigFloat(φ(v))\n",
    "    while abs(b-a) > ϵ \n",
    "        if fu<fv\n",
    "            b, fv = v, fu\n",
    "            v = u\n",
    "            u = a + θ_1*(b-a)\n",
    "            fu = φ(u)\n",
    "        else\n",
    "            a, fu = u, fv\n",
    "            u = v\n",
    "            v = a + θ_2*(b-a)\n",
    "            fv = φ(v)\n",
    "        end\n",
    "        k += 1\n",
    "    end\n",
    "    A = [φ(a), φ(u), φ(v), φ(b)]\n",
    "    dicio = Dict(A[1] => a, A[2] => u, A[3] => v, A[4] => b)\n",
    "    return dicio[minimum(A)], k\n",
    "end"
   ]
  },
  {
   "cell_type": "code",
   "execution_count": 12,
   "metadata": {},
   "outputs": [
    {
     "name": "stdout",
     "output_type": "stream",
     "text": [
      "Função | Áurea |  Equi |  Rand | Int Áu | Int Equi| Int Rand\n",
      "----- |  ----- |  ----- |  ----- |  ----- |  -----|  -----\n",
      " a(x) |     5 |      4 |      4 |     24 |     28 |     38\n",
      " b(x) |     5 |      5 |      5 |     24 |     28 |     30\n",
      " c(x) |     6 |      5 |      4 |     21 |     24 |     24\n",
      " d(x) |     6 |      4 |      5 |     24 |     28 |     38\n",
      " e(x) |     5 |      4 |      5 |     24 |     28 |     33\n",
      " f(x) |     5 |      5 |      5 |     22 |     26 |     36\n",
      " g(x) |     4 |      5 |      4 |     22 |     26 |     38\n",
      " h(x) |     5 |      5 |      4 |     28 |     33 |     35\n",
      " i(x) |     5 |      5 |      4 |     22 |     26 |     30\n",
      " j(x) |     4 |      4 |      4 |     22 |     26 |     34\n",
      " k(x) |     5 |      5 |      5 |     24 |     28 |     27\n",
      " l(x) |     4 |      4 |      4 |     26 |     31 |     31\n"
     ]
    }
   ],
   "source": [
    "tabela()"
   ]
  },
  {
   "cell_type": "code",
   "execution_count": 15,
   "metadata": {
    "scrolled": true
   },
   "outputs": [
    {
     "data": {
      "image/png": "[encoded data removed]",
      "text/plain": [
       "PyPlot.Figure(PyObject <Figure size 370x270 with 1 Axes>)"
      ]
     },
     "metadata": {},
     "output_type": "display_data"
    }
   ],
   "source": [
    "imagens()"
   ]
  },
  {
   "cell_type": "code",
   "execution_count": 13,
   "metadata": {},
   "outputs": [
    {
     "data": {
      "text/plain": [
       "vetor_aurea (generic function with 1 method)"
      ]
     },
     "execution_count": 13,
     "metadata": {},
     "output_type": "execute_result"
    }
   ],
   "source": [
    "function vetor_aurea(φ ::Function, a, b; limk = 100 , ϵ = 1e-4 )\n",
    "    θ_1= (3-sqrt(5))/2\n",
    "    θ_2= (-1+sqrt(5))/2\n",
    "    u= a + θ_1*(b-a)\n",
    "    v= a + θ_2*(b-a)\n",
    "    k = 1\n",
    "    fu, fv = φ(u), φ(v)\n",
    "    matx = [a, u, v, b]\n",
    "    maty = [φ(a), φ(u), φ(v), φ(b)]\n",
    "    while abs(b-a) > ϵ && k < limk\n",
    "        if fu<fv\n",
    "            b, fv = v, fu\n",
    "            v = u\n",
    "            u = a + θ_1*(b-a)\n",
    "            fu = φ(u)\n",
    "            push!(matx, a, u, v, b)\n",
    "            push!(maty, φ(a), φ(u), φ(v), φ(b))\n",
    "        else\n",
    "            a, fu = u, fv\n",
    "            u = v\n",
    "            v = a + θ_2*(b-a)\n",
    "            fv = φ(v)\n",
    "            push!(matx, a, u, v, b)\n",
    "            push!(maty, φ(a), φ(u), φ(v), φ(b))\n",
    "        end\n",
    "        k += 1\n",
    "    end\n",
    "    return matx, maty\n",
    "end"
   ]
  },
  {
   "cell_type": "code",
   "execution_count": 14,
   "metadata": {
    "scrolled": false
   },
   "outputs": [
    {
     "data": {
      "text/plain": [
       "([0.671089, 1.44009, 1.91536, 2.68435, 1.44009, 1.91536, 2.20909, 2.68435, 1.44009, 1.73382  …  2.00007, 2.00015, 1.99994, 1.99999, 2.00002, 2.00007, 1.99994, 1.99997, 1.99999, 2.00002], BigFloat[5.76601, 4.3135, 4.00716, 4.46834, 4.3135, 4.00716, 4.04372, 4.46834, 4.3135, 4.07085  …  4.0, 4.0, 4.0, 4.0, 4.0, 4.0, 4.0, 4.0, 4.0, 4.0])"
      ]
     },
     "execution_count": 14,
     "metadata": {},
     "output_type": "execute_result"
    }
   ],
   "source": [
    "a0, b0 = intervalo(g)\n",
    "vv, vvv= vetor_aurea(g,a0, b0)"
   ]
  },
  {
   "cell_type": "code",
   "execution_count": 44,
   "metadata": {
    "scrolled": false
   },
   "outputs": [
    {
     "data": {
      "text/plain": [
       "gif (generic function with 1 method)"
      ]
     },
     "execution_count": 44,
     "metadata": {},
     "output_type": "execute_result"
    }
   ],
   "source": [
    "function gif(f)\n",
    "    pyplot(size=(370,270))\n",
    "    a0, b0 = intervalo(f)\n",
    "    matx, maty = vetor_aurea(f,a0,b0)\n",
    "    len = length(matx)\n",
    "    #aa , uu, vv, bb = matx[1:4]\n",
    "    #fa , fu, fv, fb = maty[1:4]\n",
    "    #plot(f, 0, 4,label= string(f,\"(x)\"),framestyle=:origin) #função\n",
    "    #plot!([a0], 0:0.2:f(a0), line=:dash ,w=2) #linha do a0\n",
    "    #scatter!([aa uu vv bb], [fa fu fv fb], label= [\"a\" \"u\" \"v\" \"b\"], m = [:red :orange :green :blue], markersize=7)\n",
    "    #.+k\n",
    "    #Plots.png(string(f)) #salva as imagens\n",
    "    for h = 1:4:len\n",
    "        aa , uu, vv, bb = matx[h:h+3]\n",
    "        fa , fu, fv, fb = maty[h:h+3]\n",
    "        plot(f, a0, b0,label= string(f,\"(x)\"))#,framestyle=:zerolines) #função\n",
    "        #plot!([a0], 0:0.2:f(a0), line=:dash ,w=2) #linha do a0\n",
    "        scatter!([aa uu vv bb], [fa fu fv fb], label= [\"a\" \"u\" \"v\" \"b\"], m = [:red :orange :green :blue], markersize=7)\n",
    "        Plots.png(string(h))\n",
    "    end\n",
    "end"
   ]
  },
  {
   "cell_type": "code",
   "execution_count": 45,
   "metadata": {
    "scrolled": true
   },
   "outputs": [
    {
     "data": {
      "image/png": "[encoded data removed]",
      "text/plain": [
       "PyPlot.Figure(PyObject <Figure size 370x270 with 1 Axes>)"
      ]
     },
     "metadata": {},
     "output_type": "display_data"
    }
   ],
   "source": [
    "gif(g)"
   ]
  },
  {
   "cell_type": "code",
   "execution_count": null,
   "metadata": {},
   "outputs": [],
   "source": []
  }
 ],
 "metadata": {
  "kernelspec": {
   "display_name": "Julia 1.1.1",
   "language": "julia",
   "name": "julia-1.1"
  },
  "language_info": {
   "file_extension": ".jl",
   "mimetype": "application/julia",
   "name": "julia",
   "version": "1.1.1"
  }
 },
 "nbformat": 4,
 "nbformat_minor": 2
}
